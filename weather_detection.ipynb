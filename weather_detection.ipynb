{
  "nbformat": 4,
  "nbformat_minor": 0,
  "metadata": {
    "colab": {
      "provenance": []
    },
    "kernelspec": {
      "name": "python3",
      "display_name": "Python 3"
    },
    "language_info": {
      "name": "python"
    }
  },
  "cells": [
    {
      "cell_type": "code",
      "execution_count": null,
      "metadata": {
        "id": "vjCG7eMnQBOM"
      },
      "outputs": [],
      "source": [
        "import requests\n",
        "\n",
        "def get_weather(api_key, city_name):\n",
        "    base_url = \"http://api.openweathermap.org/data/2.5/weather\"\n",
        "    params = {\n",
        "        'q': city_name,\n",
        "        'appid': api_key,\n",
        "        'units': 'metric'  # You can change units to 'imperial' for Fahrenheit\n",
        "    }\n",
        "\n",
        "    response = requests.get(base_url, params=params)\n",
        "\n",
        "    if response.status_code == 200:\n",
        "        weather_data = response.json()\n",
        "        temperature = weather_data['main']['temp']\n",
        "        description = weather_data['weather'][0]['description']\n",
        "        print(f\"Weather in {city_name}: {description}\")\n",
        "        print(f\"Temperature: {temperature}°C\")\n",
        "    else:\n",
        "        print(f\"Failed to retrieve weather data. Status code: {response.status_code}\")\n",
        "\n",
        "if __name__ == \"__main__\":\n",
        "    api_key = \"YOUR_OPENWEATHERMAP_API_KEY\"\n",
        "    city_name = \"New York\"  # Replace with the city you want to check\n",
        "\n",
        "    get_weather(api_key, city_name)\n"
      ]
    }
  ]
}